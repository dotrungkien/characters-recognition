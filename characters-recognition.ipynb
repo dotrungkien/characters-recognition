{
 "cells": [
  {
   "cell_type": "code",
   "execution_count": 1,
   "metadata": {},
   "outputs": [
    {
     "name": "stderr",
     "output_type": "stream",
     "text": [
      "/home/dotrungkien/anaconda2/envs/py36-conda/lib/python3.6/site-packages/h5py/__init__.py:36: FutureWarning: Conversion of the second argument of issubdtype from `float` to `np.floating` is deprecated. In future, it will be treated as `np.float64 == np.dtype(float).type`.\n",
      "  from ._conv import register_converters as _register_converters\n",
      "Using TensorFlow backend.\n"
     ]
    }
   ],
   "source": [
    "from keras.applications import VGG16\n",
    "conv_base = VGG16(weights='imagenet',\n",
    "                 include_top=False,\n",
    "                 input_shape=(150, 150, 3))"
   ]
  },
  {
   "cell_type": "code",
   "execution_count": 2,
   "metadata": {},
   "outputs": [
    {
     "name": "stdout",
     "output_type": "stream",
     "text": [
      "_________________________________________________________________\n",
      "Layer (type)                 Output Shape              Param #   \n",
      "=================================================================\n",
      "input_1 (InputLayer)         (None, 150, 150, 3)       0         \n",
      "_________________________________________________________________\n",
      "block1_conv1 (Conv2D)        (None, 150, 150, 64)      1792      \n",
      "_________________________________________________________________\n",
      "block1_conv2 (Conv2D)        (None, 150, 150, 64)      36928     \n",
      "_________________________________________________________________\n",
      "block1_pool (MaxPooling2D)   (None, 75, 75, 64)        0         \n",
      "_________________________________________________________________\n",
      "block2_conv1 (Conv2D)        (None, 75, 75, 128)       73856     \n",
      "_________________________________________________________________\n",
      "block2_conv2 (Conv2D)        (None, 75, 75, 128)       147584    \n",
      "_________________________________________________________________\n",
      "block2_pool (MaxPooling2D)   (None, 37, 37, 128)       0         \n",
      "_________________________________________________________________\n",
      "block3_conv1 (Conv2D)        (None, 37, 37, 256)       295168    \n",
      "_________________________________________________________________\n",
      "block3_conv2 (Conv2D)        (None, 37, 37, 256)       590080    \n",
      "_________________________________________________________________\n",
      "block3_conv3 (Conv2D)        (None, 37, 37, 256)       590080    \n",
      "_________________________________________________________________\n",
      "block3_pool (MaxPooling2D)   (None, 18, 18, 256)       0         \n",
      "_________________________________________________________________\n",
      "block4_conv1 (Conv2D)        (None, 18, 18, 512)       1180160   \n",
      "_________________________________________________________________\n",
      "block4_conv2 (Conv2D)        (None, 18, 18, 512)       2359808   \n",
      "_________________________________________________________________\n",
      "block4_conv3 (Conv2D)        (None, 18, 18, 512)       2359808   \n",
      "_________________________________________________________________\n",
      "block4_pool (MaxPooling2D)   (None, 9, 9, 512)         0         \n",
      "_________________________________________________________________\n",
      "block5_conv1 (Conv2D)        (None, 9, 9, 512)         2359808   \n",
      "_________________________________________________________________\n",
      "block5_conv2 (Conv2D)        (None, 9, 9, 512)         2359808   \n",
      "_________________________________________________________________\n",
      "block5_conv3 (Conv2D)        (None, 9, 9, 512)         2359808   \n",
      "_________________________________________________________________\n",
      "block5_pool (MaxPooling2D)   (None, 4, 4, 512)         0         \n",
      "=================================================================\n",
      "Total params: 14,714,688\n",
      "Trainable params: 14,714,688\n",
      "Non-trainable params: 0\n",
      "_________________________________________________________________\n"
     ]
    }
   ],
   "source": [
    "conv_base.summary()"
   ]
  },
  {
   "cell_type": "code",
   "execution_count": 3,
   "metadata": {},
   "outputs": [],
   "source": [
    "import os\n",
    "import numpy as np\n",
    "from keras.preprocessing.image import ImageDataGenerator\n",
    "\n",
    "base_dir = 'data/chars74K/characters'"
   ]
  },
  {
   "cell_type": "code",
   "execution_count": 4,
   "metadata": {},
   "outputs": [
    {
     "name": "stdout",
     "output_type": "stream",
     "text": [
      "characters\tEnglishHnd.tgz\tFullImagesAndAnnotations_Frontal.tgz\r\n",
      "EnglishFnt.tgz\tEnglishImg.tgz\r\n"
     ]
    }
   ],
   "source": [
    "!ls data/chars74K"
   ]
  },
  {
   "cell_type": "code",
   "execution_count": 14,
   "metadata": {},
   "outputs": [
    {
     "name": "stdout",
     "output_type": "stream",
     "text": [
      "Found 36576 images belonging to 36 classes.\n",
      "Found 5795 images belonging to 36 classes.\n",
      "Found 3358 images belonging to 36 classes.\n"
     ]
    }
   ],
   "source": [
    "train_dir = os.path.join(base_dir, 'train')\n",
    "validation_dir = os.path.join(base_dir, 'validation')\n",
    "test_dir = os.path.join(base_dir, 'test')\n",
    "\n",
    "datagen = ImageDataGenerator(rescale=1/255.)\n",
    "batch_size = 20\n",
    "\n",
    "def extract_features(directory, sample_count):\n",
    "    features = np.zeros(shape=(sample_count, 4, 4, 512))\n",
    "    labels = np.zeros(shape=(sample_count, 36))\n",
    "    generator = datagen.flow_from_directory(\n",
    "        directory,\n",
    "        target_size=(150, 150),\n",
    "        batch_size=batch_size,\n",
    "        class_mode='categorical'\n",
    "    )\n",
    "    i = 0\n",
    "    for inputs_batch, labels_batch in generator:\n",
    "        features_batch = conv_base.predict(inputs_batch)\n",
    "        features[i*batch_size: (i+1)*batch_size] = features_batch\n",
    "        labels[i*batch_size: (i+1)*batch_size] = labels_batch\n",
    "        i += 1\n",
    "        if i * batch_size >= sample_count: break\n",
    "    return features, labels\n",
    "\n",
    "train_features, train_labels = extract_features(train_dir, 20000)\n",
    "validation_features, validation_labels = extract_features(validation_dir, 5000)\n",
    "test_features, test_labels = extract_features(test_dir, 3000)"
   ]
  },
  {
   "cell_type": "code",
   "execution_count": 16,
   "metadata": {},
   "outputs": [],
   "source": [
    "train_features = np.reshape(train_features, (20000, 4*4*512))\n",
    "validation_features = np.reshape(validation_features, (5000, 4*4*512))\n",
    "test_features = np.reshape(test_features, (3000, 4*4*512))"
   ]
  },
  {
   "cell_type": "code",
   "execution_count": 17,
   "metadata": {},
   "outputs": [
    {
     "name": "stdout",
     "output_type": "stream",
     "text": [
      "(20000, 8192) (20000, 36)\n"
     ]
    }
   ],
   "source": [
    "print(train_features.shape, train_labels.shape)"
   ]
  },
  {
   "cell_type": "code",
   "execution_count": 18,
   "metadata": {},
   "outputs": [
    {
     "name": "stdout",
     "output_type": "stream",
     "text": [
      "Train on 20000 samples, validate on 5000 samples\n",
      "Epoch 1/30\n",
      "20000/20000 [==============================] - 3s 169us/step - loss: 2.1188 - acc: 0.5204 - val_loss: 2.3765 - val_acc: 0.4700\n",
      "Epoch 2/30\n",
      "20000/20000 [==============================] - 3s 158us/step - loss: 0.8358 - acc: 0.8314 - val_loss: 2.0135 - val_acc: 0.5024\n",
      "Epoch 3/30\n",
      "20000/20000 [==============================] - 3s 165us/step - loss: 0.5464 - acc: 0.8816 - val_loss: 1.8641 - val_acc: 0.5296\n",
      "Epoch 4/30\n",
      "20000/20000 [==============================] - 3s 169us/step - loss: 0.4279 - acc: 0.8996 - val_loss: 1.7746 - val_acc: 0.5374\n",
      "Epoch 5/30\n",
      "20000/20000 [==============================] - 3s 158us/step - loss: 0.3576 - acc: 0.9140 - val_loss: 1.7360 - val_acc: 0.5360\n",
      "Epoch 6/30\n",
      "20000/20000 [==============================] - 3s 159us/step - loss: 0.3165 - acc: 0.9201 - val_loss: 1.6630 - val_acc: 0.5500\n",
      "Epoch 7/30\n",
      "20000/20000 [==============================] - 3s 170us/step - loss: 0.2825 - acc: 0.9274 - val_loss: 1.6608 - val_acc: 0.5494\n",
      "Epoch 8/30\n",
      "20000/20000 [==============================] - 3s 167us/step - loss: 0.2593 - acc: 0.9356 - val_loss: 1.6632 - val_acc: 0.5444\n",
      "Epoch 9/30\n",
      "20000/20000 [==============================] - 4s 175us/step - loss: 0.2394 - acc: 0.9387 - val_loss: 1.6133 - val_acc: 0.5620\n",
      "Epoch 10/30\n",
      "20000/20000 [==============================] - 3s 169us/step - loss: 0.2204 - acc: 0.9453 - val_loss: 1.5981 - val_acc: 0.5614\n",
      "Epoch 11/30\n",
      "20000/20000 [==============================] - 3s 171us/step - loss: 0.2064 - acc: 0.9461 - val_loss: 1.6381 - val_acc: 0.5516\n",
      "Epoch 12/30\n",
      "20000/20000 [==============================] - 4s 177us/step - loss: 0.1973 - acc: 0.9487 - val_loss: 1.5922 - val_acc: 0.5634\n",
      "Epoch 13/30\n",
      "20000/20000 [==============================] - 3s 170us/step - loss: 0.1810 - acc: 0.9520 - val_loss: 1.5748 - val_acc: 0.5654\n",
      "Epoch 14/30\n",
      "20000/20000 [==============================] - 3s 173us/step - loss: 0.1753 - acc: 0.9548 - val_loss: 1.6186 - val_acc: 0.5590\n",
      "Epoch 15/30\n",
      "20000/20000 [==============================] - 3s 168us/step - loss: 0.1667 - acc: 0.9549 - val_loss: 1.5805 - val_acc: 0.5616\n",
      "Epoch 16/30\n",
      "20000/20000 [==============================] - 3s 172us/step - loss: 0.1563 - acc: 0.9580 - val_loss: 1.6361 - val_acc: 0.5550\n",
      "Epoch 17/30\n",
      "20000/20000 [==============================] - 4s 175us/step - loss: 0.1533 - acc: 0.9588 - val_loss: 1.5906 - val_acc: 0.5666\n",
      "Epoch 18/30\n",
      "20000/20000 [==============================] - 3s 170us/step - loss: 0.1458 - acc: 0.9610 - val_loss: 1.5644 - val_acc: 0.5678\n",
      "Epoch 19/30\n",
      "20000/20000 [==============================] - 3s 173us/step - loss: 0.1393 - acc: 0.9625 - val_loss: 1.6056 - val_acc: 0.5574\n",
      "Epoch 20/30\n",
      "20000/20000 [==============================] - 4s 178us/step - loss: 0.1325 - acc: 0.9650 - val_loss: 1.5891 - val_acc: 0.5664\n",
      "Epoch 21/30\n",
      "20000/20000 [==============================] - 3s 174us/step - loss: 0.1286 - acc: 0.9648 - val_loss: 1.5874 - val_acc: 0.5680\n",
      "Epoch 22/30\n",
      "20000/20000 [==============================] - 3s 167us/step - loss: 0.1231 - acc: 0.9664 - val_loss: 1.5560 - val_acc: 0.5698\n",
      "Epoch 23/30\n",
      "20000/20000 [==============================] - 3s 173us/step - loss: 0.1190 - acc: 0.9685 - val_loss: 1.5950 - val_acc: 0.5636\n",
      "Epoch 24/30\n",
      "20000/20000 [==============================] - 3s 165us/step - loss: 0.1179 - acc: 0.9672 - val_loss: 1.5692 - val_acc: 0.5690\n",
      "Epoch 25/30\n",
      "20000/20000 [==============================] - 3s 160us/step - loss: 0.1124 - acc: 0.9707 - val_loss: 1.5842 - val_acc: 0.5656\n",
      "Epoch 26/30\n",
      "20000/20000 [==============================] - 3s 164us/step - loss: 0.1082 - acc: 0.9716 - val_loss: 1.5622 - val_acc: 0.5706\n",
      "Epoch 27/30\n",
      "20000/20000 [==============================] - 3s 158us/step - loss: 0.1049 - acc: 0.9719 - val_loss: 1.5803 - val_acc: 0.5662\n",
      "Epoch 28/30\n",
      "20000/20000 [==============================] - 3s 162us/step - loss: 0.1013 - acc: 0.9728 - val_loss: 1.5711 - val_acc: 0.5722\n",
      "Epoch 29/30\n",
      "20000/20000 [==============================] - 3s 164us/step - loss: 0.1015 - acc: 0.9716 - val_loss: 1.5786 - val_acc: 0.5682\n",
      "Epoch 30/30\n",
      "20000/20000 [==============================] - 3s 169us/step - loss: 0.0951 - acc: 0.9733 - val_loss: 1.6176 - val_acc: 0.5652\n"
     ]
    }
   ],
   "source": [
    "from keras import models\n",
    "from keras import layers\n",
    "from keras import optimizers\n",
    "\n",
    "model = models.Sequential()\n",
    "model.add(layers.Dense(256, activation='relu', input_dim=4*4*512))\n",
    "model.add(layers.Dropout(0.5))\n",
    "model.add(layers.Dense(36, activation='softmax'))\n",
    "\n",
    "model.compile(optimizer=optimizers.RMSprop(lr=2e-5),\n",
    "              loss='categorical_crossentropy',\n",
    "              metrics=['acc'])\n",
    "\n",
    "history = model.fit(train_features, train_labels,\n",
    "                    epochs=30,\n",
    "                    batch_size=20,\n",
    "                    validation_data=(validation_features, validation_labels))"
   ]
  },
  {
   "cell_type": "code",
   "execution_count": 19,
   "metadata": {},
   "outputs": [
    {
     "data": {
      "image/png": "[encoded data removed]",
      "text/plain": [
       "<matplotlib.figure.Figure at 0x7fb5c4006cf8>"
      ]
     },
     "metadata": {},
     "output_type": "display_data"
    },
    {
     "data": {
      "image/png": "[encoded data removed]",
      "text/plain": [
       "<matplotlib.figure.Figure at 0x7fb5987af588>"
      ]
     },
     "metadata": {},
     "output_type": "display_data"
    }
   ],
   "source": [
    "import matplotlib.pyplot as plt\n",
    "%matplotlib inline\n",
    "\n",
    "acc = history.history['acc']\n",
    "val_acc = history.history['val_acc']\n",
    "loss = history.history['loss']\n",
    "val_loss = history.history['val_loss']\n",
    "\n",
    "epochs = range(len(acc))\n",
    "\n",
    "plt.plot(epochs, acc, 'bo', label='Training Acc')\n",
    "plt.plot(epochs, val_acc, 'b', label='Validation Acc')\n",
    "plt.title('Training and validation accuracy', fontsize=20)\n",
    "plt.legend()\n",
    "\n",
    "plt.figure()\n",
    "\n",
    "plt.plot(epochs, loss, 'bo', label='Training Loss')\n",
    "plt.plot(epochs, val_loss, 'b', label='Validation Loss')\n",
    "plt.title('Training and Validation Loss', fontsize=20)\n",
    "plt.legend()\n",
    "\n",
    "plt.show()"
   ]
  },
  {
   "cell_type": "code",
   "execution_count": 22,
   "metadata": {},
   "outputs": [],
   "source": [
    "from keras import models\n",
    "from keras import layers\n",
    "\n",
    "\n",
    "model = models.Sequential()\n",
    "model.add(conv_base)\n",
    "model.add(layers.Flatten())\n",
    "model.add(layers.Dense(256, activation='relu'))\n",
    "model.add(layers.Dense(36, activation='softmax'))"
   ]
  },
  {
   "cell_type": "code",
   "execution_count": 23,
   "metadata": {},
   "outputs": [
    {
     "name": "stdout",
     "output_type": "stream",
     "text": [
      "_________________________________________________________________\n",
      "Layer (type)                 Output Shape              Param #   \n",
      "=================================================================\n",
      "vgg16 (Model)                (None, 4, 4, 512)         14714688  \n",
      "_________________________________________________________________\n",
      "flatten_1 (Flatten)          (None, 8192)              0         \n",
      "_________________________________________________________________\n",
      "dense_7 (Dense)              (None, 256)               2097408   \n",
      "_________________________________________________________________\n",
      "dense_8 (Dense)              (None, 36)                9252      \n",
      "=================================================================\n",
      "Total params: 16,821,348\n",
      "Trainable params: 16,821,348\n",
      "Non-trainable params: 0\n",
      "_________________________________________________________________\n"
     ]
    }
   ],
   "source": [
    "model.summary()"
   ]
  },
  {
   "cell_type": "code",
   "execution_count": 24,
   "metadata": {},
   "outputs": [
    {
     "data": {
      "text/plain": [
       "30"
      ]
     },
     "execution_count": 24,
     "metadata": {},
     "output_type": "execute_result"
    }
   ],
   "source": [
    "len(model.trainable_weights)"
   ]
  },
  {
   "cell_type": "code",
   "execution_count": 25,
   "metadata": {},
   "outputs": [],
   "source": [
    "conv_base.trainable = False"
   ]
  },
  {
   "cell_type": "code",
   "execution_count": 26,
   "metadata": {},
   "outputs": [
    {
     "data": {
      "text/plain": [
       "4"
      ]
     },
     "execution_count": 26,
     "metadata": {},
     "output_type": "execute_result"
    }
   ],
   "source": [
    "len(model.trainable_weights)"
   ]
  },
  {
   "cell_type": "code",
   "execution_count": 33,
   "metadata": {},
   "outputs": [
    {
     "name": "stdout",
     "output_type": "stream",
     "text": [
      "Found 36576 images belonging to 36 classes.\n",
      "Found 5795 images belonging to 36 classes.\n",
      "Epoch 1/30\n",
      "400/400 [==============================] - 64s 160ms/step - loss: 0.7646 - acc: 0.8200 - val_loss: 1.9842 - val_acc: 0.4988\n",
      "Epoch 2/30\n",
      "400/400 [==============================] - 66s 164ms/step - loss: 0.7006 - acc: 0.8324 - val_loss: 1.9766 - val_acc: 0.4948\n",
      "Epoch 3/30\n",
      "400/400 [==============================] - 72s 180ms/step - loss: 0.6602 - acc: 0.8410 - val_loss: 1.9525 - val_acc: 0.4950\n",
      "Epoch 4/30\n",
      "400/400 [==============================] - 65s 162ms/step - loss: 0.6154 - acc: 0.8497 - val_loss: 1.9192 - val_acc: 0.5068\n",
      "Epoch 5/30\n",
      "400/400 [==============================] - 65s 163ms/step - loss: 0.5887 - acc: 0.8521 - val_loss: 1.9613 - val_acc: 0.4970\n",
      "Epoch 6/30\n",
      "400/400 [==============================] - 63s 157ms/step - loss: 0.5623 - acc: 0.8593 - val_loss: 1.8967 - val_acc: 0.5020\n",
      "Epoch 7/30\n",
      "400/400 [==============================] - 63s 158ms/step - loss: 0.5413 - acc: 0.8616 - val_loss: 1.8436 - val_acc: 0.5343\n",
      "Epoch 8/30\n",
      "400/400 [==============================] - 67s 167ms/step - loss: 0.5092 - acc: 0.8711 - val_loss: 1.8784 - val_acc: 0.5140\n",
      "Epoch 9/30\n",
      "400/400 [==============================] - 65s 162ms/step - loss: 0.5088 - acc: 0.8710 - val_loss: 1.8196 - val_acc: 0.5200\n",
      "Epoch 10/30\n",
      "400/400 [==============================] - 64s 159ms/step - loss: 0.4871 - acc: 0.8732 - val_loss: 1.8135 - val_acc: 0.5343\n",
      "Epoch 11/30\n",
      "400/400 [==============================] - 62s 156ms/step - loss: 0.4709 - acc: 0.8772 - val_loss: 1.8480 - val_acc: 0.5196\n",
      "Epoch 12/30\n",
      "400/400 [==============================] - 63s 158ms/step - loss: 0.4496 - acc: 0.8842 - val_loss: 1.8886 - val_acc: 0.5150\n",
      "Epoch 13/30\n",
      "400/400 [==============================] - 64s 160ms/step - loss: 0.4493 - acc: 0.8829 - val_loss: 1.7996 - val_acc: 0.5184\n",
      "Epoch 14/30\n",
      "400/400 [==============================] - 64s 160ms/step - loss: 0.4364 - acc: 0.8849 - val_loss: 1.8610 - val_acc: 0.5170\n",
      "Epoch 15/30\n",
      "400/400 [==============================] - 65s 162ms/step - loss: 0.4244 - acc: 0.8885 - val_loss: 1.8559 - val_acc: 0.5056\n",
      "Epoch 16/30\n",
      "400/400 [==============================] - 62s 156ms/step - loss: 0.4242 - acc: 0.8861 - val_loss: 1.8581 - val_acc: 0.5216\n",
      "Epoch 17/30\n",
      "400/400 [==============================] - 65s 163ms/step - loss: 0.4102 - acc: 0.8924 - val_loss: 1.8383 - val_acc: 0.5222\n",
      "Epoch 18/30\n",
      "400/400 [==============================] - 64s 161ms/step - loss: 0.4032 - acc: 0.8902 - val_loss: 1.8013 - val_acc: 0.5244\n",
      "Epoch 19/30\n",
      "400/400 [==============================] - 65s 162ms/step - loss: 0.3950 - acc: 0.8942 - val_loss: 1.9120 - val_acc: 0.5046\n",
      "Epoch 20/30\n",
      "400/400 [==============================] - 65s 162ms/step - loss: 0.3859 - acc: 0.8954 - val_loss: 1.8618 - val_acc: 0.5160\n",
      "Epoch 21/30\n",
      "400/400 [==============================] - 64s 161ms/step - loss: 0.3746 - acc: 0.9009 - val_loss: 1.8798 - val_acc: 0.5046\n",
      "Epoch 22/30\n",
      "400/400 [==============================] - 64s 159ms/step - loss: 0.3754 - acc: 0.8980 - val_loss: 1.8901 - val_acc: 0.5092\n",
      "Epoch 23/30\n",
      "400/400 [==============================] - 64s 159ms/step - loss: 0.3733 - acc: 0.8980 - val_loss: 1.8555 - val_acc: 0.5132\n",
      "Epoch 24/30\n",
      "400/400 [==============================] - 64s 160ms/step - loss: 0.3631 - acc: 0.8999 - val_loss: 1.8939 - val_acc: 0.4990\n",
      "Epoch 25/30\n",
      "154/400 [==========>...................] - ETA: 34s - loss: 0.3545 - acc: 0.9029"
     ]
    },
    {
     "ename": "KeyboardInterrupt",
     "evalue": "",
     "output_type": "error",
     "traceback": [
      "\u001b[0;31m---------------------------------------------------------------------------\u001b[0m",
      "\u001b[0;31mKeyboardInterrupt\u001b[0m                         Traceback (most recent call last)",
      "\u001b[0;32m<ipython-input-33-4edb74530cb1>\u001b[0m in \u001b[0;36m<module>\u001b[0;34m()\u001b[0m\n\u001b[1;32m     42\u001b[0m     \u001b[0mvalidation_data\u001b[0m\u001b[0;34m=\u001b[0m\u001b[0mvalidation_generator\u001b[0m\u001b[0;34m,\u001b[0m\u001b[0;34m\u001b[0m\u001b[0m\n\u001b[1;32m     43\u001b[0m     \u001b[0mvalidation_steps\u001b[0m\u001b[0;34m=\u001b[0m\u001b[0;36m50\u001b[0m\u001b[0;34m,\u001b[0m\u001b[0;34m\u001b[0m\u001b[0m\n\u001b[0;32m---> 44\u001b[0;31m     \u001b[0mverbose\u001b[0m\u001b[0;34m=\u001b[0m\u001b[0;36m1\u001b[0m\u001b[0;34m\u001b[0m\u001b[0m\n\u001b[0m\u001b[1;32m     45\u001b[0m )\n",
      "\u001b[0;32m~/anaconda2/envs/py36-conda/lib/python3.6/site-packages/keras/legacy/interfaces.py\u001b[0m in \u001b[0;36mwrapper\u001b[0;34m(*args, **kwargs)\u001b[0m\n\u001b[1;32m     89\u001b[0m                 warnings.warn('Update your `' + object_name +\n\u001b[1;32m     90\u001b[0m                               '` call to the Keras 2 API: ' + signature, stacklevel=2)\n\u001b[0;32m---> 91\u001b[0;31m             \u001b[0;32mreturn\u001b[0m \u001b[0mfunc\u001b[0m\u001b[0;34m(\u001b[0m\u001b[0;34m*\u001b[0m\u001b[0margs\u001b[0m\u001b[0;34m,\u001b[0m \u001b[0;34m**\u001b[0m\u001b[0mkwargs\u001b[0m\u001b[0;34m)\u001b[0m\u001b[0;34m\u001b[0m\u001b[0m\n\u001b[0m\u001b[1;32m     92\u001b[0m         \u001b[0mwrapper\u001b[0m\u001b[0;34m.\u001b[0m\u001b[0m_original_function\u001b[0m \u001b[0;34m=\u001b[0m \u001b[0mfunc\u001b[0m\u001b[0;34m\u001b[0m\u001b[0m\n\u001b[1;32m     93\u001b[0m         \u001b[0;32mreturn\u001b[0m \u001b[0mwrapper\u001b[0m\u001b[0;34m\u001b[0m\u001b[0m\n",
      "\u001b[0;32m~/anaconda2/envs/py36-conda/lib/python3.6/site-packages/keras/models.py\u001b[0m in \u001b[0;36mfit_generator\u001b[0;34m(self, generator, steps_per_epoch, epochs, verbose, callbacks, validation_data, validation_steps, class_weight, max_queue_size, workers, use_multiprocessing, shuffle, initial_epoch)\u001b[0m\n\u001b[1;32m   1254\u001b[0m                                         \u001b[0muse_multiprocessing\u001b[0m\u001b[0;34m=\u001b[0m\u001b[0muse_multiprocessing\u001b[0m\u001b[0;34m,\u001b[0m\u001b[0;34m\u001b[0m\u001b[0m\n\u001b[1;32m   1255\u001b[0m                                         \u001b[0mshuffle\u001b[0m\u001b[0;34m=\u001b[0m\u001b[0mshuffle\u001b[0m\u001b[0;34m,\u001b[0m\u001b[0;34m\u001b[0m\u001b[0m\n\u001b[0;32m-> 1256\u001b[0;31m                                         initial_epoch=initial_epoch)\n\u001b[0m\u001b[1;32m   1257\u001b[0m \u001b[0;34m\u001b[0m\u001b[0m\n\u001b[1;32m   1258\u001b[0m     \u001b[0;34m@\u001b[0m\u001b[0minterfaces\u001b[0m\u001b[0;34m.\u001b[0m\u001b[0mlegacy_generator_methods_support\u001b[0m\u001b[0;34m\u001b[0m\u001b[0m\n",
      "\u001b[0;32m~/anaconda2/envs/py36-conda/lib/python3.6/site-packages/keras/legacy/interfaces.py\u001b[0m in \u001b[0;36mwrapper\u001b[0;34m(*args, **kwargs)\u001b[0m\n\u001b[1;32m     89\u001b[0m                 warnings.warn('Update your `' + object_name +\n\u001b[1;32m     90\u001b[0m                               '` call to the Keras 2 API: ' + signature, stacklevel=2)\n\u001b[0;32m---> 91\u001b[0;31m             \u001b[0;32mreturn\u001b[0m \u001b[0mfunc\u001b[0m\u001b[0;34m(\u001b[0m\u001b[0;34m*\u001b[0m\u001b[0margs\u001b[0m\u001b[0;34m,\u001b[0m \u001b[0;34m**\u001b[0m\u001b[0mkwargs\u001b[0m\u001b[0;34m)\u001b[0m\u001b[0;34m\u001b[0m\u001b[0m\n\u001b[0m\u001b[1;32m     92\u001b[0m         \u001b[0mwrapper\u001b[0m\u001b[0;34m.\u001b[0m\u001b[0m_original_function\u001b[0m \u001b[0;34m=\u001b[0m \u001b[0mfunc\u001b[0m\u001b[0;34m\u001b[0m\u001b[0m\n\u001b[1;32m     93\u001b[0m         \u001b[0;32mreturn\u001b[0m \u001b[0mwrapper\u001b[0m\u001b[0;34m\u001b[0m\u001b[0m\n",
      "\u001b[0;32m~/anaconda2/envs/py36-conda/lib/python3.6/site-packages/keras/engine/training.py\u001b[0m in \u001b[0;36mfit_generator\u001b[0;34m(self, generator, steps_per_epoch, epochs, verbose, callbacks, validation_data, validation_steps, class_weight, max_queue_size, workers, use_multiprocessing, shuffle, initial_epoch)\u001b[0m\n\u001b[1;32m   2143\u001b[0m                 \u001b[0mbatch_index\u001b[0m \u001b[0;34m=\u001b[0m \u001b[0;36m0\u001b[0m\u001b[0;34m\u001b[0m\u001b[0m\n\u001b[1;32m   2144\u001b[0m                 \u001b[0;32mwhile\u001b[0m \u001b[0msteps_done\u001b[0m \u001b[0;34m<\u001b[0m \u001b[0msteps_per_epoch\u001b[0m\u001b[0;34m:\u001b[0m\u001b[0;34m\u001b[0m\u001b[0m\n\u001b[0;32m-> 2145\u001b[0;31m                     \u001b[0mgenerator_output\u001b[0m \u001b[0;34m=\u001b[0m \u001b[0mnext\u001b[0m\u001b[0;34m(\u001b[0m\u001b[0moutput_generator\u001b[0m\u001b[0;34m)\u001b[0m\u001b[0;34m\u001b[0m\u001b[0m\n\u001b[0m\u001b[1;32m   2146\u001b[0m \u001b[0;34m\u001b[0m\u001b[0m\n\u001b[1;32m   2147\u001b[0m                     \u001b[0;32mif\u001b[0m \u001b[0;32mnot\u001b[0m \u001b[0mhasattr\u001b[0m\u001b[0;34m(\u001b[0m\u001b[0mgenerator_output\u001b[0m\u001b[0;34m,\u001b[0m \u001b[0;34m'__len__'\u001b[0m\u001b[0;34m)\u001b[0m\u001b[0;34m:\u001b[0m\u001b[0;34m\u001b[0m\u001b[0m\n",
      "\u001b[0;32m~/anaconda2/envs/py36-conda/lib/python3.6/site-packages/keras/utils/data_utils.py\u001b[0m in \u001b[0;36mget\u001b[0;34m(self)\u001b[0m\n\u001b[1;32m    553\u001b[0m         \u001b[0;32mtry\u001b[0m\u001b[0;34m:\u001b[0m\u001b[0;34m\u001b[0m\u001b[0m\n\u001b[1;32m    554\u001b[0m             \u001b[0;32mwhile\u001b[0m \u001b[0mself\u001b[0m\u001b[0;34m.\u001b[0m\u001b[0mis_running\u001b[0m\u001b[0;34m(\u001b[0m\u001b[0;34m)\u001b[0m\u001b[0;34m:\u001b[0m\u001b[0;34m\u001b[0m\u001b[0m\n\u001b[0;32m--> 555\u001b[0;31m                 \u001b[0minputs\u001b[0m \u001b[0;34m=\u001b[0m \u001b[0mself\u001b[0m\u001b[0;34m.\u001b[0m\u001b[0mqueue\u001b[0m\u001b[0;34m.\u001b[0m\u001b[0mget\u001b[0m\u001b[0;34m(\u001b[0m\u001b[0mblock\u001b[0m\u001b[0;34m=\u001b[0m\u001b[0;32mTrue\u001b[0m\u001b[0;34m)\u001b[0m\u001b[0;34m.\u001b[0m\u001b[0mget\u001b[0m\u001b[0;34m(\u001b[0m\u001b[0;34m)\u001b[0m\u001b[0;34m\u001b[0m\u001b[0m\n\u001b[0m\u001b[1;32m    556\u001b[0m                 \u001b[0mself\u001b[0m\u001b[0;34m.\u001b[0m\u001b[0mqueue\u001b[0m\u001b[0;34m.\u001b[0m\u001b[0mtask_done\u001b[0m\u001b[0;34m(\u001b[0m\u001b[0;34m)\u001b[0m\u001b[0;34m\u001b[0m\u001b[0m\n\u001b[1;32m    557\u001b[0m                 \u001b[0;32mif\u001b[0m \u001b[0minputs\u001b[0m \u001b[0;32mis\u001b[0m \u001b[0;32mnot\u001b[0m \u001b[0;32mNone\u001b[0m\u001b[0;34m:\u001b[0m\u001b[0;34m\u001b[0m\u001b[0m\n",
      "\u001b[0;32m~/anaconda2/envs/py36-conda/lib/python3.6/multiprocessing/pool.py\u001b[0m in \u001b[0;36mget\u001b[0;34m(self, timeout)\u001b[0m\n\u001b[1;32m    636\u001b[0m \u001b[0;34m\u001b[0m\u001b[0m\n\u001b[1;32m    637\u001b[0m     \u001b[0;32mdef\u001b[0m \u001b[0mget\u001b[0m\u001b[0;34m(\u001b[0m\u001b[0mself\u001b[0m\u001b[0;34m,\u001b[0m \u001b[0mtimeout\u001b[0m\u001b[0;34m=\u001b[0m\u001b[0;32mNone\u001b[0m\u001b[0;34m)\u001b[0m\u001b[0;34m:\u001b[0m\u001b[0;34m\u001b[0m\u001b[0m\n\u001b[0;32m--> 638\u001b[0;31m         \u001b[0mself\u001b[0m\u001b[0;34m.\u001b[0m\u001b[0mwait\u001b[0m\u001b[0;34m(\u001b[0m\u001b[0mtimeout\u001b[0m\u001b[0;34m)\u001b[0m\u001b[0;34m\u001b[0m\u001b[0m\n\u001b[0m\u001b[1;32m    639\u001b[0m         \u001b[0;32mif\u001b[0m \u001b[0;32mnot\u001b[0m \u001b[0mself\u001b[0m\u001b[0;34m.\u001b[0m\u001b[0mready\u001b[0m\u001b[0;34m(\u001b[0m\u001b[0;34m)\u001b[0m\u001b[0;34m:\u001b[0m\u001b[0;34m\u001b[0m\u001b[0m\n\u001b[1;32m    640\u001b[0m             \u001b[0;32mraise\u001b[0m \u001b[0mTimeoutError\u001b[0m\u001b[0;34m\u001b[0m\u001b[0m\n",
      "\u001b[0;32m~/anaconda2/envs/py36-conda/lib/python3.6/multiprocessing/pool.py\u001b[0m in \u001b[0;36mwait\u001b[0;34m(self, timeout)\u001b[0m\n\u001b[1;32m    633\u001b[0m \u001b[0;34m\u001b[0m\u001b[0m\n\u001b[1;32m    634\u001b[0m     \u001b[0;32mdef\u001b[0m \u001b[0mwait\u001b[0m\u001b[0;34m(\u001b[0m\u001b[0mself\u001b[0m\u001b[0;34m,\u001b[0m \u001b[0mtimeout\u001b[0m\u001b[0;34m=\u001b[0m\u001b[0;32mNone\u001b[0m\u001b[0;34m)\u001b[0m\u001b[0;34m:\u001b[0m\u001b[0;34m\u001b[0m\u001b[0m\n\u001b[0;32m--> 635\u001b[0;31m         \u001b[0mself\u001b[0m\u001b[0;34m.\u001b[0m\u001b[0m_event\u001b[0m\u001b[0;34m.\u001b[0m\u001b[0mwait\u001b[0m\u001b[0;34m(\u001b[0m\u001b[0mtimeout\u001b[0m\u001b[0;34m)\u001b[0m\u001b[0;34m\u001b[0m\u001b[0m\n\u001b[0m\u001b[1;32m    636\u001b[0m \u001b[0;34m\u001b[0m\u001b[0m\n\u001b[1;32m    637\u001b[0m     \u001b[0;32mdef\u001b[0m \u001b[0mget\u001b[0m\u001b[0;34m(\u001b[0m\u001b[0mself\u001b[0m\u001b[0;34m,\u001b[0m \u001b[0mtimeout\u001b[0m\u001b[0;34m=\u001b[0m\u001b[0;32mNone\u001b[0m\u001b[0;34m)\u001b[0m\u001b[0;34m:\u001b[0m\u001b[0;34m\u001b[0m\u001b[0m\n",
      "\u001b[0;32m~/anaconda2/envs/py36-conda/lib/python3.6/threading.py\u001b[0m in \u001b[0;36mwait\u001b[0;34m(self, timeout)\u001b[0m\n\u001b[1;32m    549\u001b[0m             \u001b[0msignaled\u001b[0m \u001b[0;34m=\u001b[0m \u001b[0mself\u001b[0m\u001b[0;34m.\u001b[0m\u001b[0m_flag\u001b[0m\u001b[0;34m\u001b[0m\u001b[0m\n\u001b[1;32m    550\u001b[0m             \u001b[0;32mif\u001b[0m \u001b[0;32mnot\u001b[0m \u001b[0msignaled\u001b[0m\u001b[0;34m:\u001b[0m\u001b[0;34m\u001b[0m\u001b[0m\n\u001b[0;32m--> 551\u001b[0;31m                 \u001b[0msignaled\u001b[0m \u001b[0;34m=\u001b[0m \u001b[0mself\u001b[0m\u001b[0;34m.\u001b[0m\u001b[0m_cond\u001b[0m\u001b[0;34m.\u001b[0m\u001b[0mwait\u001b[0m\u001b[0;34m(\u001b[0m\u001b[0mtimeout\u001b[0m\u001b[0;34m)\u001b[0m\u001b[0;34m\u001b[0m\u001b[0m\n\u001b[0m\u001b[1;32m    552\u001b[0m             \u001b[0;32mreturn\u001b[0m \u001b[0msignaled\u001b[0m\u001b[0;34m\u001b[0m\u001b[0m\n\u001b[1;32m    553\u001b[0m \u001b[0;34m\u001b[0m\u001b[0m\n",
      "\u001b[0;32m~/anaconda2/envs/py36-conda/lib/python3.6/threading.py\u001b[0m in \u001b[0;36mwait\u001b[0;34m(self, timeout)\u001b[0m\n\u001b[1;32m    293\u001b[0m         \u001b[0;32mtry\u001b[0m\u001b[0;34m:\u001b[0m    \u001b[0;31m# restore state no matter what (e.g., KeyboardInterrupt)\u001b[0m\u001b[0;34m\u001b[0m\u001b[0m\n\u001b[1;32m    294\u001b[0m             \u001b[0;32mif\u001b[0m \u001b[0mtimeout\u001b[0m \u001b[0;32mis\u001b[0m \u001b[0;32mNone\u001b[0m\u001b[0;34m:\u001b[0m\u001b[0;34m\u001b[0m\u001b[0m\n\u001b[0;32m--> 295\u001b[0;31m                 \u001b[0mwaiter\u001b[0m\u001b[0;34m.\u001b[0m\u001b[0macquire\u001b[0m\u001b[0;34m(\u001b[0m\u001b[0;34m)\u001b[0m\u001b[0;34m\u001b[0m\u001b[0m\n\u001b[0m\u001b[1;32m    296\u001b[0m                 \u001b[0mgotit\u001b[0m \u001b[0;34m=\u001b[0m \u001b[0;32mTrue\u001b[0m\u001b[0;34m\u001b[0m\u001b[0m\n\u001b[1;32m    297\u001b[0m             \u001b[0;32melse\u001b[0m\u001b[0;34m:\u001b[0m\u001b[0;34m\u001b[0m\u001b[0m\n",
      "\u001b[0;31mKeyboardInterrupt\u001b[0m: "
     ]
    }
   ],
   "source": [
    "from keras.preprocessing.image import ImageDataGenerator\n",
    "\n",
    "batch_size = 50\n",
    "\n",
    "train_datagen = ImageDataGenerator(\n",
    "    rescale=1./255,\n",
    "    rotation_range=40,\n",
    "    width_shift_range=0.2,\n",
    "    height_shift_range=0.2,\n",
    "    shear_range=0.2,\n",
    "    zoom_range=0.2,\n",
    "    horizontal_flip=False,\n",
    "    vertical_flip=False,\n",
    "    fill_mode='nearest'\n",
    ")\n",
    "\n",
    "test_datagen = ImageDataGenerator(rescale=1./255)\n",
    "\n",
    "train_generator = train_datagen.flow_from_directory(\n",
    "    train_dir,\n",
    "    target_size=(150, 150),\n",
    "    batch_size=batch_size,\n",
    "    class_mode='categorical'\n",
    ")\n",
    "\n",
    "validation_generator = test_datagen.flow_from_directory(\n",
    "    validation_dir,\n",
    "    target_size=(150, 150),\n",
    "    batch_size=batch_size,\n",
    "    class_mode='categorical'\n",
    ")\n",
    "\n",
    "\n",
    "model.compile(loss='categorical_crossentropy',\n",
    "              optimizer=optimizers.RMSprop(lr=2e-5),\n",
    "              metrics=['acc'])\n",
    "\n",
    "history = model.fit_generator(\n",
    "    train_generator,\n",
    "    steps_per_epoch=train_features.shape[0]//batch_size,\n",
    "    epochs=30,\n",
    "    validation_data=validation_generator,\n",
    "    validation_steps=50,\n",
    "    verbose=1\n",
    ")"
   ]
  },
  {
   "cell_type": "code",
   "execution_count": 34,
   "metadata": {},
   "outputs": [
    {
     "name": "stdout",
     "output_type": "stream",
     "text": [
      "Epoch 1/30\n",
      "100/100 [==============================] - 21s 208ms/step - loss: 0.3172 - acc: 0.9084 - val_loss: 1.8706 - val_acc: 0.5384\n",
      "Epoch 2/30\n",
      "100/100 [==============================] - 18s 182ms/step - loss: 0.3300 - acc: 0.9076 - val_loss: 1.8760 - val_acc: 0.5496\n",
      "Epoch 3/30\n",
      "100/100 [==============================] - 18s 184ms/step - loss: 0.2904 - acc: 0.9118 - val_loss: 1.8172 - val_acc: 0.5431\n",
      "Epoch 4/30\n",
      "100/100 [==============================] - 19s 189ms/step - loss: 0.2947 - acc: 0.9126 - val_loss: 1.9821 - val_acc: 0.5200\n",
      "Epoch 5/30\n",
      "100/100 [==============================] - 18s 184ms/step - loss: 0.2945 - acc: 0.9172 - val_loss: 1.9164 - val_acc: 0.5435\n",
      "Epoch 6/30\n",
      "100/100 [==============================] - 19s 188ms/step - loss: 0.2768 - acc: 0.9152 - val_loss: 1.9185 - val_acc: 0.5208\n",
      "Epoch 7/30\n",
      "100/100 [==============================] - 19s 190ms/step - loss: 0.2932 - acc: 0.9114 - val_loss: 1.8855 - val_acc: 0.5383\n",
      "Epoch 8/30\n",
      "100/100 [==============================] - 19s 194ms/step - loss: 0.2628 - acc: 0.9192 - val_loss: 1.8548 - val_acc: 0.5568\n",
      "Epoch 9/30\n",
      "100/100 [==============================] - 19s 186ms/step - loss: 0.2515 - acc: 0.9272 - val_loss: 1.9804 - val_acc: 0.5448\n",
      "Epoch 10/30\n",
      "100/100 [==============================] - 18s 179ms/step - loss: 0.2607 - acc: 0.9192 - val_loss: 1.9257 - val_acc: 0.5571\n",
      "Epoch 11/30\n",
      "100/100 [==============================] - 18s 182ms/step - loss: 0.2376 - acc: 0.9274 - val_loss: 1.8662 - val_acc: 0.5600\n",
      "Epoch 12/30\n",
      "100/100 [==============================] - 19s 187ms/step - loss: 0.2527 - acc: 0.9272 - val_loss: 1.9184 - val_acc: 0.5579\n",
      "Epoch 13/30\n",
      "100/100 [==============================] - 19s 190ms/step - loss: 0.2471 - acc: 0.9250 - val_loss: 1.7541 - val_acc: 0.5716\n",
      "Epoch 14/30\n",
      "100/100 [==============================] - 18s 175ms/step - loss: 0.2259 - acc: 0.9322 - val_loss: 1.8260 - val_acc: 0.5643\n",
      "Epoch 15/30\n",
      "100/100 [==============================] - 19s 190ms/step - loss: 0.2294 - acc: 0.9324 - val_loss: 1.8277 - val_acc: 0.5684\n",
      "Epoch 16/30\n",
      "100/100 [==============================] - 18s 179ms/step - loss: 0.2253 - acc: 0.9322 - val_loss: 1.8440 - val_acc: 0.5692\n",
      "Epoch 17/30\n",
      "100/100 [==============================] - 19s 186ms/step - loss: 0.2289 - acc: 0.9266 - val_loss: 1.8494 - val_acc: 0.5687\n",
      "Epoch 18/30\n",
      "100/100 [==============================] - 18s 182ms/step - loss: 0.2205 - acc: 0.9376 - val_loss: 1.9496 - val_acc: 0.5564\n",
      "Epoch 19/30\n",
      "100/100 [==============================] - 18s 176ms/step - loss: 0.2268 - acc: 0.9302 - val_loss: 1.7901 - val_acc: 0.5567\n",
      "Epoch 20/30\n",
      "100/100 [==============================] - 18s 183ms/step - loss: 0.2155 - acc: 0.9360 - val_loss: 1.8957 - val_acc: 0.5608\n",
      "Epoch 21/30\n",
      "100/100 [==============================] - 18s 182ms/step - loss: 0.2024 - acc: 0.9364 - val_loss: 1.8155 - val_acc: 0.5760\n",
      "Epoch 22/30\n",
      "100/100 [==============================] - 18s 184ms/step - loss: 0.2005 - acc: 0.9426 - val_loss: 1.8535 - val_acc: 0.5716\n",
      "Epoch 23/30\n",
      "100/100 [==============================] - 18s 185ms/step - loss: 0.1918 - acc: 0.9446 - val_loss: 2.0492 - val_acc: 0.5468\n",
      "Epoch 24/30\n",
      "100/100 [==============================] - 18s 184ms/step - loss: 0.1978 - acc: 0.9388 - val_loss: 1.9742 - val_acc: 0.5355\n",
      "Epoch 25/30\n",
      "100/100 [==============================] - 18s 178ms/step - loss: 0.2004 - acc: 0.9378 - val_loss: 2.0243 - val_acc: 0.5500\n",
      "Epoch 26/30\n",
      "100/100 [==============================] - 18s 183ms/step - loss: 0.2006 - acc: 0.9354 - val_loss: 1.9524 - val_acc: 0.5671\n",
      "Epoch 27/30\n",
      "100/100 [==============================] - 18s 180ms/step - loss: 0.1867 - acc: 0.9424 - val_loss: 1.8214 - val_acc: 0.5652\n",
      "Epoch 28/30\n",
      "100/100 [==============================] - 18s 182ms/step - loss: 0.1982 - acc: 0.9392 - val_loss: 1.8316 - val_acc: 0.5780\n",
      "Epoch 29/30\n",
      "100/100 [==============================] - 18s 178ms/step - loss: 0.1996 - acc: 0.9374 - val_loss: 2.0455 - val_acc: 0.5508\n",
      "Epoch 30/30\n",
      "100/100 [==============================] - 18s 185ms/step - loss: 0.1720 - acc: 0.9468 - val_loss: 1.9461 - val_acc: 0.5588\n"
     ]
    }
   ],
   "source": [
    "conv_base.trainable = True\n",
    "set_trainable = False\n",
    "for layer in conv_base.layers:\n",
    "    if layer.name == 'block5_conv1':\n",
    "        layer.trainable = True\n",
    "#         set_trainable = True\n",
    "#     if set_trainable:\n",
    "#         layer.trainable = True\n",
    "    else:\n",
    "        layer.trainable = False\n",
    "        \n",
    "        \n",
    "model.compile(loss='categorical_crossentropy',\n",
    "              optimizer=optimizers.RMSprop(lr=2e-5),\n",
    "              metrics=['acc'])\n",
    "\n",
    "history = model.fit_generator(\n",
    "    train_generator,\n",
    "    steps_per_epoch=100,\n",
    "    epochs=30,\n",
    "    validation_data=validation_generator,\n",
    "    validation_steps=50\n",
    ")"
   ]
  },
  {
   "cell_type": "code",
   "execution_count": 36,
   "metadata": {},
   "outputs": [
    {
     "name": "stdout",
     "output_type": "stream",
     "text": [
      "Found 3358 images belonging to 36 classes.\n"
     ]
    },
    {
     "data": {
      "text/plain": [
       "(3.7900803661346436, 0.33300000250339507)"
      ]
     },
     "execution_count": 36,
     "metadata": {},
     "output_type": "execute_result"
    }
   ],
   "source": [
    "test_generator = test_datagen.flow_from_directory(\n",
    "    test_dir,\n",
    "    target_size=(150,150),\n",
    "    batch_size=20,\n",
    "    class_mode='categorical'\n",
    ")\n",
    "\n",
    "test_loss, test_acc = model.evaluate_generator(test_generator, steps=50)\n",
    "test_loss, test_acc"
   ]
  },
  {
   "cell_type": "code",
   "execution_count": null,
   "metadata": {},
   "outputs": [],
   "source": []
  },
  {
   "cell_type": "code",
   "execution_count": null,
   "metadata": {},
   "outputs": [],
   "source": []
  },
  {
   "cell_type": "code",
   "execution_count": null,
   "metadata": {},
   "outputs": [],
   "source": []
  },
  {
   "cell_type": "code",
   "execution_count": null,
   "metadata": {},
   "outputs": [],
   "source": []
  },
  {
   "cell_type": "code",
   "execution_count": null,
   "metadata": {},
   "outputs": [],
   "source": []
  },
  {
   "cell_type": "code",
   "execution_count": null,
   "metadata": {},
   "outputs": [],
   "source": []
  },
  {
   "cell_type": "code",
   "execution_count": null,
   "metadata": {},
   "outputs": [],
   "source": []
  },
  {
   "cell_type": "code",
   "execution_count": null,
   "metadata": {},
   "outputs": [],
   "source": []
  },
  {
   "cell_type": "code",
   "execution_count": null,
   "metadata": {},
   "outputs": [],
   "source": []
  },
  {
   "cell_type": "code",
   "execution_count": null,
   "metadata": {},
   "outputs": [],
   "source": []
  },
  {
   "cell_type": "code",
   "execution_count": null,
   "metadata": {},
   "outputs": [],
   "source": []
  },
  {
   "cell_type": "code",
   "execution_count": null,
   "metadata": {},
   "outputs": [],
   "source": []
  },
  {
   "cell_type": "code",
   "execution_count": null,
   "metadata": {},
   "outputs": [],
   "source": []
  },
  {
   "cell_type": "code",
   "execution_count": null,
   "metadata": {},
   "outputs": [],
   "source": []
  },
  {
   "cell_type": "code",
   "execution_count": null,
   "metadata": {},
   "outputs": [],
   "source": []
  },
  {
   "cell_type": "code",
   "execution_count": null,
   "metadata": {},
   "outputs": [],
   "source": []
  },
  {
   "cell_type": "code",
   "execution_count": null,
   "metadata": {},
   "outputs": [],
   "source": []
  },
  {
   "cell_type": "code",
   "execution_count": null,
   "metadata": {},
   "outputs": [],
   "source": []
  },
  {
   "cell_type": "code",
   "execution_count": null,
   "metadata": {},
   "outputs": [],
   "source": []
  },
  {
   "cell_type": "code",
   "execution_count": null,
   "metadata": {},
   "outputs": [],
   "source": []
  },
  {
   "cell_type": "code",
   "execution_count": null,
   "metadata": {},
   "outputs": [],
   "source": []
  }
 ],
 "metadata": {
  "kernelspec": {
   "display_name": "Python 3",
   "language": "python",
   "name": "python3"
  },
  "language_info": {
   "codemirror_mode": {
    "name": "ipython",
    "version": 3
   },
   "file_extension": ".py",
   "mimetype": "text/x-python",
   "name": "python",
   "nbconvert_exporter": "python",
   "pygments_lexer": "ipython3",
   "version": "3.6.4"
  }
 },
 "nbformat": 4,
 "nbformat_minor": 2
}
