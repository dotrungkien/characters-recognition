{
 "cells": [
  {
   "cell_type": "code",
   "execution_count": 1,
   "metadata": {},
   "outputs": [
    {
     "name": "stderr",
     "output_type": "stream",
     "text": [
      "/home/dotrungkien/anaconda2/envs/py36-conda/lib/python3.6/site-packages/h5py/__init__.py:36: FutureWarning: Conversion of the second argument of issubdtype from `float` to `np.floating` is deprecated. In future, it will be treated as `np.float64 == np.dtype(float).type`.\n",
      "  from ._conv import register_converters as _register_converters\n",
      "Using TensorFlow backend.\n"
     ]
    }
   ],
   "source": [
    "from keras.applications import VGG16\n",
    "conv_base = VGG16(weights='imagenet',\n",
    "                 include_top=False,\n",
    "                 input_shape=(150, 150, 3))"
   ]
  },
  {
   "cell_type": "code",
   "execution_count": 2,
   "metadata": {},
   "outputs": [
    {
     "name": "stdout",
     "output_type": "stream",
     "text": [
      "_________________________________________________________________\n",
      "Layer (type)                 Output Shape              Param #   \n",
      "=================================================================\n",
      "input_1 (InputLayer)         (None, 150, 150, 3)       0         \n",
      "_________________________________________________________________\n",
      "block1_conv1 (Conv2D)        (None, 150, 150, 64)      1792      \n",
      "_________________________________________________________________\n",
      "block1_conv2 (Conv2D)        (None, 150, 150, 64)      36928     \n",
      "_________________________________________________________________\n",
      "block1_pool (MaxPooling2D)   (None, 75, 75, 64)        0         \n",
      "_________________________________________________________________\n",
      "block2_conv1 (Conv2D)        (None, 75, 75, 128)       73856     \n",
      "_________________________________________________________________\n",
      "block2_conv2 (Conv2D)        (None, 75, 75, 128)       147584    \n",
      "_________________________________________________________________\n",
      "block2_pool (MaxPooling2D)   (None, 37, 37, 128)       0         \n",
      "_________________________________________________________________\n",
      "block3_conv1 (Conv2D)        (None, 37, 37, 256)       295168    \n",
      "_________________________________________________________________\n",
      "block3_conv2 (Conv2D)        (None, 37, 37, 256)       590080    \n",
      "_________________________________________________________________\n",
      "block3_conv3 (Conv2D)        (None, 37, 37, 256)       590080    \n",
      "_________________________________________________________________\n",
      "block3_pool (MaxPooling2D)   (None, 18, 18, 256)       0         \n",
      "_________________________________________________________________\n",
      "block4_conv1 (Conv2D)        (None, 18, 18, 512)       1180160   \n",
      "_________________________________________________________________\n",
      "block4_conv2 (Conv2D)        (None, 18, 18, 512)       2359808   \n",
      "_________________________________________________________________\n",
      "block4_conv3 (Conv2D)        (None, 18, 18, 512)       2359808   \n",
      "_________________________________________________________________\n",
      "block4_pool (MaxPooling2D)   (None, 9, 9, 512)         0         \n",
      "_________________________________________________________________\n",
      "block5_conv1 (Conv2D)        (None, 9, 9, 512)         2359808   \n",
      "_________________________________________________________________\n",
      "block5_conv2 (Conv2D)        (None, 9, 9, 512)         2359808   \n",
      "_________________________________________________________________\n",
      "block5_conv3 (Conv2D)        (None, 9, 9, 512)         2359808   \n",
      "_________________________________________________________________\n",
      "block5_pool (MaxPooling2D)   (None, 4, 4, 512)         0         \n",
      "=================================================================\n",
      "Total params: 14,714,688\n",
      "Trainable params: 14,714,688\n",
      "Non-trainable params: 0\n",
      "_________________________________________________________________\n"
     ]
    }
   ],
   "source": [
    "conv_base.summary()"
   ]
  },
  {
   "cell_type": "code",
   "execution_count": 3,
   "metadata": {},
   "outputs": [],
   "source": [
    "import os\n",
    "import numpy as np\n",
    "from keras.preprocessing.image import ImageDataGenerator\n",
    "\n",
    "base_dir = 'data/chars74K/characters'"
   ]
  },
  {
   "cell_type": "code",
   "execution_count": 4,
   "metadata": {},
   "outputs": [
    {
     "name": "stdout",
     "output_type": "stream",
     "text": [
      "characters\tEnglishHnd.tgz\tFullImagesAndAnnotations_Frontal.tgz\r\n",
      "EnglishFnt.tgz\tEnglishImg.tgz\r\n"
     ]
    }
   ],
   "source": [
    "!ls data/chars74K"
   ]
  },
  {
   "cell_type": "code",
   "execution_count": 5,
   "metadata": {},
   "outputs": [
    {
     "name": "stdout",
     "output_type": "stream",
     "text": [
      "Found 5795 images belonging to 36 classes.\n",
      "Found 36576 images belonging to 36 classes.\n",
      "Found 3358 images belonging to 36 classes.\n"
     ]
    }
   ],
   "source": [
    "train_dir = os.path.join(base_dir, 'train')\n",
    "validation_dir = os.path.join(base_dir, 'validation')\n",
    "test_dir = os.path.join(base_dir, 'test')\n",
    "\n",
    "datagen = ImageDataGenerator(rescale=1/255.)\n",
    "batch_size = 20\n",
    "\n",
    "def extract_features(directory, sample_count):\n",
    "    features = np.zeros(shape=(sample_count, 4, 4, 512))\n",
    "    labels = np.zeros(shape=(sample_count, 36))\n",
    "    generator = datagen.flow_from_directory(\n",
    "        directory,\n",
    "        target_size=(150, 150),\n",
    "        batch_size=batch_size,\n",
    "        class_mode='categorical'\n",
    "    )\n",
    "    i = 0\n",
    "    for inputs_batch, labels_batch in generator:\n",
    "        features_batch = conv_base.predict(inputs_batch)\n",
    "        features[i*batch_size: (i+1)*batch_size] = features_batch\n",
    "        labels[i*batch_size: (i+1)*batch_size] = labels_batch\n",
    "        i += 1\n",
    "        if i * batch_size >= sample_count: break\n",
    "    return features, labels\n",
    "\n",
    "train_features, train_labels = extract_features(train_dir, 2000)\n",
    "validation_features, validation_labels = extract_features(validation_dir, 1000)\n",
    "test_features, test_labels = extract_features(test_dir, 1000)"
   ]
  },
  {
   "cell_type": "code",
   "execution_count": 6,
   "metadata": {},
   "outputs": [],
   "source": [
    "train_features = np.reshape(train_features, (2000, 4*4*512))\n",
    "validation_features = np.reshape(validation_features, (1000, 4*4*512))\n",
    "test_features = np.reshape(test_features, (1000, 4*4*512))"
   ]
  },
  {
   "cell_type": "code",
   "execution_count": 7,
   "metadata": {},
   "outputs": [
    {
     "name": "stdout",
     "output_type": "stream",
     "text": [
      "(2000, 8192) (2000, 36)\n"
     ]
    }
   ],
   "source": [
    "print(train_features.shape, train_labels.shape)"
   ]
  },
  {
   "cell_type": "code",
   "execution_count": 10,
   "metadata": {},
   "outputs": [
    {
     "name": "stdout",
     "output_type": "stream",
     "text": [
      "Train on 2000 samples, validate on 1000 samples\n",
      "Epoch 1/30\n",
      "2000/2000 [==============================] - 1s 357us/step - loss: 3.3788 - acc: 0.1235 - val_loss: 3.5093 - val_acc: 0.0960\n",
      "Epoch 2/30\n",
      "2000/2000 [==============================] - 0s 183us/step - loss: 2.9443 - acc: 0.2525 - val_loss: 3.3504 - val_acc: 0.1410\n",
      "Epoch 3/30\n",
      "2000/2000 [==============================] - 0s 177us/step - loss: 2.6944 - acc: 0.3315 - val_loss: 3.2132 - val_acc: 0.1700\n",
      "Epoch 4/30\n",
      "2000/2000 [==============================] - 0s 165us/step - loss: 2.4879 - acc: 0.3795 - val_loss: 3.0827 - val_acc: 0.1950\n",
      "Epoch 5/30\n",
      "2000/2000 [==============================] - 0s 187us/step - loss: 2.3003 - acc: 0.4300 - val_loss: 2.9737 - val_acc: 0.2180\n",
      "Epoch 6/30\n",
      "2000/2000 [==============================] - 0s 171us/step - loss: 2.1624 - acc: 0.4690 - val_loss: 2.8641 - val_acc: 0.2490\n",
      "Epoch 7/30\n",
      "2000/2000 [==============================] - 0s 195us/step - loss: 2.0370 - acc: 0.5030 - val_loss: 2.7695 - val_acc: 0.2640\n",
      "Epoch 8/30\n",
      "2000/2000 [==============================] - 0s 185us/step - loss: 1.9308 - acc: 0.5380 - val_loss: 2.6792 - val_acc: 0.2700\n",
      "Epoch 9/30\n",
      "2000/2000 [==============================] - 0s 176us/step - loss: 1.8283 - acc: 0.5675 - val_loss: 2.5934 - val_acc: 0.2840\n",
      "Epoch 10/30\n",
      "2000/2000 [==============================] - 0s 167us/step - loss: 1.7362 - acc: 0.5755 - val_loss: 2.5064 - val_acc: 0.3120\n",
      "Epoch 11/30\n",
      "2000/2000 [==============================] - 0s 166us/step - loss: 1.6586 - acc: 0.6010 - val_loss: 2.4313 - val_acc: 0.3370\n",
      "Epoch 12/30\n",
      "2000/2000 [==============================] - 0s 173us/step - loss: 1.5561 - acc: 0.6315 - val_loss: 2.3735 - val_acc: 0.3590\n",
      "Epoch 13/30\n",
      "2000/2000 [==============================] - 0s 173us/step - loss: 1.5165 - acc: 0.6395 - val_loss: 2.3083 - val_acc: 0.3810\n",
      "Epoch 14/30\n",
      "2000/2000 [==============================] - 0s 189us/step - loss: 1.4389 - acc: 0.6565 - val_loss: 2.2321 - val_acc: 0.4090\n",
      "Epoch 15/30\n",
      "2000/2000 [==============================] - 0s 186us/step - loss: 1.3896 - acc: 0.6715 - val_loss: 2.1736 - val_acc: 0.4280\n",
      "Epoch 16/30\n",
      "2000/2000 [==============================] - 0s 179us/step - loss: 1.3420 - acc: 0.6730 - val_loss: 2.1458 - val_acc: 0.4270\n",
      "Epoch 17/30\n",
      "2000/2000 [==============================] - 0s 181us/step - loss: 1.2781 - acc: 0.6970 - val_loss: 2.1043 - val_acc: 0.4500\n",
      "Epoch 18/30\n",
      "2000/2000 [==============================] - 0s 186us/step - loss: 1.2390 - acc: 0.7130 - val_loss: 2.0338 - val_acc: 0.4720\n",
      "Epoch 19/30\n",
      "2000/2000 [==============================] - 0s 171us/step - loss: 1.2091 - acc: 0.7105 - val_loss: 2.0031 - val_acc: 0.4730\n",
      "Epoch 20/30\n",
      "2000/2000 [==============================] - 0s 174us/step - loss: 1.1644 - acc: 0.7180 - val_loss: 1.9521 - val_acc: 0.4860\n",
      "Epoch 21/30\n",
      "2000/2000 [==============================] - 0s 186us/step - loss: 1.1251 - acc: 0.7380 - val_loss: 1.9276 - val_acc: 0.4920\n",
      "Epoch 22/30\n",
      "2000/2000 [==============================] - 0s 177us/step - loss: 1.1028 - acc: 0.7455 - val_loss: 1.8859 - val_acc: 0.5010\n",
      "Epoch 23/30\n",
      "2000/2000 [==============================] - 0s 172us/step - loss: 1.0499 - acc: 0.7525 - val_loss: 1.8631 - val_acc: 0.5010\n",
      "Epoch 24/30\n",
      "2000/2000 [==============================] - 0s 184us/step - loss: 1.0179 - acc: 0.7545 - val_loss: 1.8374 - val_acc: 0.5200\n",
      "Epoch 25/30\n",
      "2000/2000 [==============================] - 0s 200us/step - loss: 0.9757 - acc: 0.7735 - val_loss: 1.8103 - val_acc: 0.5180\n",
      "Epoch 26/30\n",
      "2000/2000 [==============================] - 0s 191us/step - loss: 0.9549 - acc: 0.7775 - val_loss: 1.7876 - val_acc: 0.5100\n",
      "Epoch 27/30\n",
      "2000/2000 [==============================] - 0s 199us/step - loss: 0.9351 - acc: 0.7695 - val_loss: 1.7500 - val_acc: 0.5180\n",
      "Epoch 28/30\n",
      "2000/2000 [==============================] - 0s 198us/step - loss: 0.9050 - acc: 0.7830 - val_loss: 1.7206 - val_acc: 0.5290\n",
      "Epoch 29/30\n",
      "2000/2000 [==============================] - 0s 194us/step - loss: 0.8914 - acc: 0.7930 - val_loss: 1.6825 - val_acc: 0.5400\n",
      "Epoch 30/30\n",
      "2000/2000 [==============================] - 0s 177us/step - loss: 0.8513 - acc: 0.8120 - val_loss: 1.6673 - val_acc: 0.5380\n"
     ]
    }
   ],
   "source": [
    "from keras import models\n",
    "from keras import layers\n",
    "from keras import optimizers\n",
    "\n",
    "model = models.Sequential()\n",
    "model.add(layers.Dense(256, activation='relu', input_dim=4*4*512))\n",
    "model.add(layers.Dropout(0.5))\n",
    "model.add(layers.Dense(36, activation='softmax'))\n",
    "\n",
    "model.compile(optimizer=optimizers.RMSprop(lr=2e-5),\n",
    "              loss='categorical_crossentropy',\n",
    "              metrics=['acc'])\n",
    "\n",
    "history = model.fit(train_features, train_labels,\n",
    "                    epochs=30,\n",
    "                    batch_size=20,\n",
    "                    validation_data=(validation_features, validation_labels))"
   ]
  },
  {
   "cell_type": "code",
   "execution_count": 13,
   "metadata": {},
   "outputs": [
    {
     "data": {
      "image/png": "[encoded data removed]",
      "text/plain": [
       "<matplotlib.figure.Figure at 0x7fb5c4006d30>"
      ]
     },
     "metadata": {},
     "output_type": "display_data"
    },
    {
     "data": {
      "image/png": "[encoded data removed]",
      "text/plain": [
       "<matplotlib.figure.Figure at 0x7fb5c40127f0>"
      ]
     },
     "metadata": {},
     "output_type": "display_data"
    }
   ],
   "source": [
    "import matplotlib.pyplot as plt\n",
    "%matplotlib inline\n",
    "\n",
    "acc = history.history['acc']\n",
    "val_acc = history.history['val_acc']\n",
    "loss = history.history['loss']\n",
    "val_loss = history.history['val_loss']\n",
    "\n",
    "epochs = range(len(acc))\n",
    "\n",
    "plt.plot(epochs, acc, 'bo', label='Training Acc')\n",
    "plt.plot(epochs, val_acc, 'b', label='Validation Acc')\n",
    "plt.title('Training and validation accuracy', fontsize=20)\n",
    "plt.legend()\n",
    "\n",
    "plt.figure()\n",
    "\n",
    "plt.plot(epochs, loss, 'bo', label='Training Loss')\n",
    "plt.plot(epochs, val_loss, 'b', label='Validation Loss')\n",
    "plt.title('Training and Validation Loss', fontsize=20)\n",
    "plt.legend()\n",
    "\n",
    "plt.show()"
   ]
  },
  {
   "cell_type": "code",
   "execution_count": null,
   "metadata": {},
   "outputs": [],
   "source": []
  },
  {
   "cell_type": "code",
   "execution_count": null,
   "metadata": {},
   "outputs": [],
   "source": []
  },
  {
   "cell_type": "code",
   "execution_count": null,
   "metadata": {},
   "outputs": [],
   "source": []
  },
  {
   "cell_type": "code",
   "execution_count": null,
   "metadata": {},
   "outputs": [],
   "source": []
  },
  {
   "cell_type": "code",
   "execution_count": null,
   "metadata": {},
   "outputs": [],
   "source": []
  },
  {
   "cell_type": "code",
   "execution_count": null,
   "metadata": {},
   "outputs": [],
   "source": []
  }
 ],
 "metadata": {
  "kernelspec": {
   "display_name": "Python 3",
   "language": "python",
   "name": "python3"
  },
  "language_info": {
   "codemirror_mode": {
    "name": "ipython",
    "version": 3
   },
   "file_extension": ".py",
   "mimetype": "text/x-python",
   "name": "python",
   "nbconvert_exporter": "python",
   "pygments_lexer": "ipython3",
   "version": "3.6.4"
  }
 },
 "nbformat": 4,
 "nbformat_minor": 2
}
